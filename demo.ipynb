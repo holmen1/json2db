{
 "cells": [
  {
   "cell_type": "code",
   "id": "initial_id",
   "metadata": {
    "collapsed": true,
    "ExecuteTime": {
     "end_time": "2025-03-15T20:54:00.203885Z",
     "start_time": "2025-03-15T20:53:59.958206Z"
    }
   },
   "source": [
    "import json\n",
    "import pandas as pd\n",
    "from sqlalchemy import create_engine, text"
   ],
   "outputs": [],
   "execution_count": 1
  },
  {
   "metadata": {
    "ExecuteTime": {
     "end_time": "2025-03-15T20:54:00.208203Z",
     "start_time": "2025-03-15T20:54:00.206271Z"
    }
   },
   "cell_type": "code",
   "source": [
    "with open('Data/assumptions.json') as f:\n",
    "    data = json.load(f)"
   ],
   "id": "6d2d4668fb666844",
   "outputs": [],
   "execution_count": 2
  },
  {
   "metadata": {},
   "cell_type": "markdown",
   "source": [
    "Convert data into a tabular format where each level in the JSON becomes a column in the DataFrame\n",
    "\n",
    "Creates a clean DataFrame with Category (A/B), Risk (HR/LR), Type (Investment/cash), and Value columns"
   ],
   "id": "4cef58933b42e5ba"
  },
  {
   "metadata": {
    "ExecuteTime": {
     "end_time": "2025-03-15T20:54:00.276185Z",
     "start_time": "2025-03-15T20:54:00.274843Z"
    }
   },
   "cell_type": "code",
   "source": [
    "# Initialize an empty list to store our flattened data\n",
    "flattened_data = []"
   ],
   "id": "f4e0fccf650e9b78",
   "outputs": [],
   "execution_count": 3
  },
  {
   "metadata": {
    "ExecuteTime": {
     "end_time": "2025-03-15T20:54:00.281314Z",
     "start_time": "2025-03-15T20:54:00.279437Z"
    }
   },
   "cell_type": "code",
   "source": [
    "# Iterate through the nested structure\n",
    "for category, category_data in data[\"Assumptions\"].items():\n",
    "    for risk, risk_data in category_data.items():\n",
    "        for asset_type, value in risk_data.items():\n",
    "            # Append to our list\n",
    "            flattened_data.append({\n",
    "                \"Category\": category,\n",
    "                \"Risk\": risk,\n",
    "                \"Type\": asset_type,\n",
    "                \"Value\": value\n",
    "            })\n",
    "df = pd.DataFrame(flattened_data)"
   ],
   "id": "c415a61eae3a7c59",
   "outputs": [],
   "execution_count": 4
  },
  {
   "metadata": {
    "ExecuteTime": {
     "end_time": "2025-03-15T20:54:00.291120Z",
     "start_time": "2025-03-15T20:54:00.286654Z"
    }
   },
   "cell_type": "code",
   "source": "df.head()",
   "id": "9242d8cd382180ac",
   "outputs": [
    {
     "data": {
      "text/plain": [
       "  Category Risk        Type  Value\n",
       "0        A   HR  Investment    1.0\n",
       "1        A   HR        cash    2.0\n",
       "2        A   LR  Investment    3.0\n",
       "3        A   LR        cash    4.0\n",
       "4        B   HR  Investment    5.0"
      ],
      "text/html": [
       "<div>\n",
       "<style scoped>\n",
       "    .dataframe tbody tr th:only-of-type {\n",
       "        vertical-align: middle;\n",
       "    }\n",
       "\n",
       "    .dataframe tbody tr th {\n",
       "        vertical-align: top;\n",
       "    }\n",
       "\n",
       "    .dataframe thead th {\n",
       "        text-align: right;\n",
       "    }\n",
       "</style>\n",
       "<table border=\"1\" class=\"dataframe\">\n",
       "  <thead>\n",
       "    <tr style=\"text-align: right;\">\n",
       "      <th></th>\n",
       "      <th>Category</th>\n",
       "      <th>Risk</th>\n",
       "      <th>Type</th>\n",
       "      <th>Value</th>\n",
       "    </tr>\n",
       "  </thead>\n",
       "  <tbody>\n",
       "    <tr>\n",
       "      <th>0</th>\n",
       "      <td>A</td>\n",
       "      <td>HR</td>\n",
       "      <td>Investment</td>\n",
       "      <td>1.0</td>\n",
       "    </tr>\n",
       "    <tr>\n",
       "      <th>1</th>\n",
       "      <td>A</td>\n",
       "      <td>HR</td>\n",
       "      <td>cash</td>\n",
       "      <td>2.0</td>\n",
       "    </tr>\n",
       "    <tr>\n",
       "      <th>2</th>\n",
       "      <td>A</td>\n",
       "      <td>LR</td>\n",
       "      <td>Investment</td>\n",
       "      <td>3.0</td>\n",
       "    </tr>\n",
       "    <tr>\n",
       "      <th>3</th>\n",
       "      <td>A</td>\n",
       "      <td>LR</td>\n",
       "      <td>cash</td>\n",
       "      <td>4.0</td>\n",
       "    </tr>\n",
       "    <tr>\n",
       "      <th>4</th>\n",
       "      <td>B</td>\n",
       "      <td>HR</td>\n",
       "      <td>Investment</td>\n",
       "      <td>5.0</td>\n",
       "    </tr>\n",
       "  </tbody>\n",
       "</table>\n",
       "</div>"
      ]
     },
     "execution_count": 5,
     "metadata": {},
     "output_type": "execute_result"
    }
   ],
   "execution_count": 5
  },
  {
   "metadata": {},
   "cell_type": "markdown",
   "source": "To save your DataFrame to a database, you can use pandas' built-in to_sql() method. Here's how to do it with SQLite (simplest option)",
   "id": "72604b09302598cc"
  },
  {
   "metadata": {
    "ExecuteTime": {
     "end_time": "2025-03-15T20:54:00.315207Z",
     "start_time": "2025-03-15T20:54:00.307621Z"
    }
   },
   "cell_type": "code",
   "source": [
    "# Create SQLite database engine\n",
    "engine = create_engine('sqlite:///assumptions.db')"
   ],
   "id": "574c7c3b745c8dc2",
   "outputs": [],
   "execution_count": 6
  },
  {
   "metadata": {
    "ExecuteTime": {
     "end_time": "2025-03-15T20:54:00.336569Z",
     "start_time": "2025-03-15T20:54:00.329533Z"
    }
   },
   "cell_type": "code",
   "source": [
    "# Save DataFrame to SQLite\n",
    "df.to_sql('assumptions', engine, if_exists='replace', index=False)"
   ],
   "id": "8552eb6c0538856",
   "outputs": [
    {
     "data": {
      "text/plain": [
       "8"
      ]
     },
     "execution_count": 7,
     "metadata": {},
     "output_type": "execute_result"
    }
   ],
   "execution_count": 7
  },
  {
   "metadata": {
    "ExecuteTime": {
     "end_time": "2025-03-15T20:54:00.354878Z",
     "start_time": "2025-03-15T20:54:00.351569Z"
    }
   },
   "cell_type": "code",
   "source": "print(pd.read_sql('SELECT * FROM assumptions', engine))",
   "id": "ba9ad159c4d49c71",
   "outputs": [
    {
     "name": "stdout",
     "output_type": "stream",
     "text": [
      "  Category Risk        Type  Value\n",
      "0        A   HR  Investment    1.0\n",
      "1        A   HR        cash    2.0\n",
      "2        A   LR  Investment    3.0\n",
      "3        A   LR        cash    4.0\n",
      "4        B   HR  Investment    5.0\n",
      "5        B   HR        cash    6.0\n",
      "6        B   LR  Investment    7.0\n",
      "7        B   LR        cash    8.0\n"
     ]
    }
   ],
   "execution_count": 8
  },
  {
   "metadata": {},
   "cell_type": "markdown",
   "source": "Alter value",
   "id": "15c463a508091e67"
  },
  {
   "metadata": {
    "ExecuteTime": {
     "end_time": "2025-03-15T20:54:00.369690Z",
     "start_time": "2025-03-15T20:54:00.367373Z"
    }
   },
   "cell_type": "code",
   "source": [
    "with engine.connect() as conn:\n",
    "    # Execute an UPDATE statement\n",
    "    conn.execute(text(\"\"\"\n",
    "        UPDATE assumptions\n",
    "        SET Value = 10.0\n",
    "        WHERE Risk = 'HR' AND Type = 'Investment'\n",
    "    \"\"\"))\n",
    "    conn.commit()"
   ],
   "id": "49241b18886d00e2",
   "outputs": [],
   "execution_count": 9
  },
  {
   "metadata": {
    "ExecuteTime": {
     "end_time": "2025-03-15T20:54:00.377898Z",
     "start_time": "2025-03-15T20:54:00.374570Z"
    }
   },
   "cell_type": "code",
   "source": "print(pd.read_sql('SELECT * FROM assumptions', engine))",
   "id": "b28ad4ec484fe025",
   "outputs": [
    {
     "name": "stdout",
     "output_type": "stream",
     "text": [
      "  Category Risk        Type  Value\n",
      "0        A   HR  Investment   10.0\n",
      "1        A   HR        cash    2.0\n",
      "2        A   LR  Investment    3.0\n",
      "3        A   LR        cash    4.0\n",
      "4        B   HR  Investment   10.0\n",
      "5        B   HR        cash    6.0\n",
      "6        B   LR  Investment    7.0\n",
      "7        B   LR        cash    8.0\n"
     ]
    }
   ],
   "execution_count": 10
  },
  {
   "metadata": {
    "ExecuteTime": {
     "end_time": "2025-03-15T20:54:00.384874Z",
     "start_time": "2025-03-15T20:54:00.382612Z"
    }
   },
   "cell_type": "code",
   "source": "df2 = pd.read_sql('SELECT * FROM assumptions', engine)",
   "id": "1c6156b8dfbd9891",
   "outputs": [],
   "execution_count": 11
  },
  {
   "metadata": {
    "ExecuteTime": {
     "end_time": "2025-03-15T20:54:00.397811Z",
     "start_time": "2025-03-15T20:54:00.394263Z"
    }
   },
   "cell_type": "code",
   "source": "df2.head()",
   "id": "48718c576d1b4b9",
   "outputs": [
    {
     "data": {
      "text/plain": [
       "  Category Risk        Type  Value\n",
       "0        A   HR  Investment   10.0\n",
       "1        A   HR        cash    2.0\n",
       "2        A   LR  Investment    3.0\n",
       "3        A   LR        cash    4.0\n",
       "4        B   HR  Investment   10.0"
      ],
      "text/html": [
       "<div>\n",
       "<style scoped>\n",
       "    .dataframe tbody tr th:only-of-type {\n",
       "        vertical-align: middle;\n",
       "    }\n",
       "\n",
       "    .dataframe tbody tr th {\n",
       "        vertical-align: top;\n",
       "    }\n",
       "\n",
       "    .dataframe thead th {\n",
       "        text-align: right;\n",
       "    }\n",
       "</style>\n",
       "<table border=\"1\" class=\"dataframe\">\n",
       "  <thead>\n",
       "    <tr style=\"text-align: right;\">\n",
       "      <th></th>\n",
       "      <th>Category</th>\n",
       "      <th>Risk</th>\n",
       "      <th>Type</th>\n",
       "      <th>Value</th>\n",
       "    </tr>\n",
       "  </thead>\n",
       "  <tbody>\n",
       "    <tr>\n",
       "      <th>0</th>\n",
       "      <td>A</td>\n",
       "      <td>HR</td>\n",
       "      <td>Investment</td>\n",
       "      <td>10.0</td>\n",
       "    </tr>\n",
       "    <tr>\n",
       "      <th>1</th>\n",
       "      <td>A</td>\n",
       "      <td>HR</td>\n",
       "      <td>cash</td>\n",
       "      <td>2.0</td>\n",
       "    </tr>\n",
       "    <tr>\n",
       "      <th>2</th>\n",
       "      <td>A</td>\n",
       "      <td>LR</td>\n",
       "      <td>Investment</td>\n",
       "      <td>3.0</td>\n",
       "    </tr>\n",
       "    <tr>\n",
       "      <th>3</th>\n",
       "      <td>A</td>\n",
       "      <td>LR</td>\n",
       "      <td>cash</td>\n",
       "      <td>4.0</td>\n",
       "    </tr>\n",
       "    <tr>\n",
       "      <th>4</th>\n",
       "      <td>B</td>\n",
       "      <td>HR</td>\n",
       "      <td>Investment</td>\n",
       "      <td>10.0</td>\n",
       "    </tr>\n",
       "  </tbody>\n",
       "</table>\n",
       "</div>"
      ]
     },
     "execution_count": 12,
     "metadata": {},
     "output_type": "execute_result"
    }
   ],
   "execution_count": 12
  },
  {
   "metadata": {},
   "cell_type": "markdown",
   "source": "",
   "id": "f71cd300ffafbdc2"
  },
  {
   "metadata": {},
   "cell_type": "markdown",
   "source": "To convert the altered database table back to the original JSON format, read the data and reconstruct the nested structure",
   "id": "be3634c910fc455a"
  },
  {
   "metadata": {
    "ExecuteTime": {
     "end_time": "2025-03-15T20:54:00.414311Z",
     "start_time": "2025-03-15T20:54:00.412687Z"
    }
   },
   "cell_type": "code",
   "source": "new_json = {\"Assumptions\": {}}",
   "id": "3e6fe91a8e533695",
   "outputs": [],
   "execution_count": 13
  },
  {
   "metadata": {
    "ExecuteTime": {
     "end_time": "2025-03-15T20:54:00.434292Z",
     "start_time": "2025-03-15T20:54:00.432091Z"
    }
   },
   "cell_type": "code",
   "source": [
    "# Iterate through the DataFrame to build the nested structure\n",
    "for _, row in df2.iterrows():\n",
    "    category = row['Category']\n",
    "    risk = row['Risk']\n",
    "    asset_type = row['Type']\n",
    "    value = row['Value']\n",
    "\n",
    "    # Create nested structure\n",
    "    if category not in new_json[\"Assumptions\"]:\n",
    "        new_json[\"Assumptions\"][category] = {}\n",
    "\n",
    "    if risk not in new_json[\"Assumptions\"][category]:\n",
    "        new_json[\"Assumptions\"][category][risk] = {}\n",
    "\n",
    "    # Set the value\n",
    "    new_json[\"Assumptions\"][category][risk][asset_type] = value"
   ],
   "id": "3911a8cb643dd301",
   "outputs": [],
   "execution_count": 14
  },
  {
   "metadata": {},
   "cell_type": "markdown",
   "source": "Save to a new JSON file",
   "id": "9ff62bc8dbf53b16"
  },
  {
   "metadata": {
    "ExecuteTime": {
     "end_time": "2025-03-15T20:54:00.444089Z",
     "start_time": "2025-03-15T20:54:00.442272Z"
    }
   },
   "cell_type": "code",
   "source": [
    "with open('Data/assumptions_updated.json', 'w') as f:\n",
    "    json.dump(new_json, f, indent=2)"
   ],
   "id": "5ee8218e4ff19a98",
   "outputs": [],
   "execution_count": 15
  }
 ],
 "metadata": {
  "kernelspec": {
   "display_name": "Python 3",
   "language": "python",
   "name": "python3"
  },
  "language_info": {
   "codemirror_mode": {
    "name": "ipython",
    "version": 2
   },
   "file_extension": ".py",
   "mimetype": "text/x-python",
   "name": "python",
   "nbconvert_exporter": "python",
   "pygments_lexer": "ipython2",
   "version": "2.7.6"
  }
 },
 "nbformat": 4,
 "nbformat_minor": 5
}
