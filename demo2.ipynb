{
 "cells": [
  {
   "cell_type": "code",
   "id": "initial_id",
   "metadata": {
    "collapsed": true,
    "ExecuteTime": {
     "end_time": "2025-03-19T15:25:11.245954Z",
     "start_time": "2025-03-19T15:25:11.051213Z"
    }
   },
   "source": [
    "import json\n",
    "import pandas as pd"
   ],
   "outputs": [],
   "execution_count": 1
  },
  {
   "metadata": {
    "ExecuteTime": {
     "end_time": "2025-03-19T15:25:11.251602Z",
     "start_time": "2025-03-19T15:25:11.248531Z"
    }
   },
   "cell_type": "code",
   "source": "df = pd.read_csv('Data/assumptions.csv')",
   "id": "6d2d4668fb666844",
   "outputs": [],
   "execution_count": 2
  },
  {
   "metadata": {
    "ExecuteTime": {
     "end_time": "2025-03-19T15:25:11.315269Z",
     "start_time": "2025-03-19T15:25:11.311077Z"
    }
   },
   "cell_type": "code",
   "source": "df.head()",
   "id": "a1c070725991c823",
   "outputs": [
    {
     "data": {
      "text/plain": [
       "  level1 level2      level3 level4  value\n",
       "0      A     HR  Investment      a    1.0\n",
       "1      A     HR        cash      a    2.0\n",
       "2      A     LR  Investment      b    3.0\n",
       "3      A     LR        cash      b    4.0\n",
       "4      B     HR  Investment      a    5.0"
      ],
      "text/html": [
       "<div>\n",
       "<style scoped>\n",
       "    .dataframe tbody tr th:only-of-type {\n",
       "        vertical-align: middle;\n",
       "    }\n",
       "\n",
       "    .dataframe tbody tr th {\n",
       "        vertical-align: top;\n",
       "    }\n",
       "\n",
       "    .dataframe thead th {\n",
       "        text-align: right;\n",
       "    }\n",
       "</style>\n",
       "<table border=\"1\" class=\"dataframe\">\n",
       "  <thead>\n",
       "    <tr style=\"text-align: right;\">\n",
       "      <th></th>\n",
       "      <th>level1</th>\n",
       "      <th>level2</th>\n",
       "      <th>level3</th>\n",
       "      <th>level4</th>\n",
       "      <th>value</th>\n",
       "    </tr>\n",
       "  </thead>\n",
       "  <tbody>\n",
       "    <tr>\n",
       "      <th>0</th>\n",
       "      <td>A</td>\n",
       "      <td>HR</td>\n",
       "      <td>Investment</td>\n",
       "      <td>a</td>\n",
       "      <td>1.0</td>\n",
       "    </tr>\n",
       "    <tr>\n",
       "      <th>1</th>\n",
       "      <td>A</td>\n",
       "      <td>HR</td>\n",
       "      <td>cash</td>\n",
       "      <td>a</td>\n",
       "      <td>2.0</td>\n",
       "    </tr>\n",
       "    <tr>\n",
       "      <th>2</th>\n",
       "      <td>A</td>\n",
       "      <td>LR</td>\n",
       "      <td>Investment</td>\n",
       "      <td>b</td>\n",
       "      <td>3.0</td>\n",
       "    </tr>\n",
       "    <tr>\n",
       "      <th>3</th>\n",
       "      <td>A</td>\n",
       "      <td>LR</td>\n",
       "      <td>cash</td>\n",
       "      <td>b</td>\n",
       "      <td>4.0</td>\n",
       "    </tr>\n",
       "    <tr>\n",
       "      <th>4</th>\n",
       "      <td>B</td>\n",
       "      <td>HR</td>\n",
       "      <td>Investment</td>\n",
       "      <td>a</td>\n",
       "      <td>5.0</td>\n",
       "    </tr>\n",
       "  </tbody>\n",
       "</table>\n",
       "</div>"
      ]
     },
     "execution_count": 3,
     "metadata": {},
     "output_type": "execute_result"
    }
   ],
   "execution_count": 3
  },
  {
   "metadata": {
    "ExecuteTime": {
     "end_time": "2025-03-19T15:25:11.334885Z",
     "start_time": "2025-03-19T15:25:11.332411Z"
    }
   },
   "cell_type": "code",
   "source": "indexed_df = df.set_index(['level1', 'level2', 'level3', 'level4'])",
   "id": "106d546efc554b5e",
   "outputs": [],
   "execution_count": 4
  },
  {
   "metadata": {
    "ExecuteTime": {
     "end_time": "2025-03-19T15:25:11.355058Z",
     "start_time": "2025-03-19T15:25:11.353383Z"
    }
   },
   "cell_type": "code",
   "source": "value_series = indexed_df['value']",
   "id": "603ec5303275e049",
   "outputs": [],
   "execution_count": 5
  },
  {
   "metadata": {
    "ExecuteTime": {
     "end_time": "2025-03-19T15:25:11.372099Z",
     "start_time": "2025-03-19T15:25:11.367663Z"
    }
   },
   "cell_type": "code",
   "source": [
    "unstacked_df = value_series.unstack(level=3)\n",
    "unstacked_df"
   ],
   "id": "e3edf6cd310739d9",
   "outputs": [
    {
     "data": {
      "text/plain": [
       "level4                      a    b\n",
       "level1 level2 level3              \n",
       "A      HR     Investment  1.0  NaN\n",
       "              cash        2.0  NaN\n",
       "       LR     Investment  NaN  3.0\n",
       "              cash        NaN  4.0\n",
       "B      HR     Investment  5.0  NaN\n",
       "              cash        6.0  NaN\n",
       "       LR     Investment  NaN  7.0\n",
       "              cash        NaN  8.0"
      ],
      "text/html": [
       "<div>\n",
       "<style scoped>\n",
       "    .dataframe tbody tr th:only-of-type {\n",
       "        vertical-align: middle;\n",
       "    }\n",
       "\n",
       "    .dataframe tbody tr th {\n",
       "        vertical-align: top;\n",
       "    }\n",
       "\n",
       "    .dataframe thead th {\n",
       "        text-align: right;\n",
       "    }\n",
       "</style>\n",
       "<table border=\"1\" class=\"dataframe\">\n",
       "  <thead>\n",
       "    <tr style=\"text-align: right;\">\n",
       "      <th></th>\n",
       "      <th></th>\n",
       "      <th>level4</th>\n",
       "      <th>a</th>\n",
       "      <th>b</th>\n",
       "    </tr>\n",
       "    <tr>\n",
       "      <th>level1</th>\n",
       "      <th>level2</th>\n",
       "      <th>level3</th>\n",
       "      <th></th>\n",
       "      <th></th>\n",
       "    </tr>\n",
       "  </thead>\n",
       "  <tbody>\n",
       "    <tr>\n",
       "      <th rowspan=\"4\" valign=\"top\">A</th>\n",
       "      <th rowspan=\"2\" valign=\"top\">HR</th>\n",
       "      <th>Investment</th>\n",
       "      <td>1.0</td>\n",
       "      <td>NaN</td>\n",
       "    </tr>\n",
       "    <tr>\n",
       "      <th>cash</th>\n",
       "      <td>2.0</td>\n",
       "      <td>NaN</td>\n",
       "    </tr>\n",
       "    <tr>\n",
       "      <th rowspan=\"2\" valign=\"top\">LR</th>\n",
       "      <th>Investment</th>\n",
       "      <td>NaN</td>\n",
       "      <td>3.0</td>\n",
       "    </tr>\n",
       "    <tr>\n",
       "      <th>cash</th>\n",
       "      <td>NaN</td>\n",
       "      <td>4.0</td>\n",
       "    </tr>\n",
       "    <tr>\n",
       "      <th rowspan=\"4\" valign=\"top\">B</th>\n",
       "      <th rowspan=\"2\" valign=\"top\">HR</th>\n",
       "      <th>Investment</th>\n",
       "      <td>5.0</td>\n",
       "      <td>NaN</td>\n",
       "    </tr>\n",
       "    <tr>\n",
       "      <th>cash</th>\n",
       "      <td>6.0</td>\n",
       "      <td>NaN</td>\n",
       "    </tr>\n",
       "    <tr>\n",
       "      <th rowspan=\"2\" valign=\"top\">LR</th>\n",
       "      <th>Investment</th>\n",
       "      <td>NaN</td>\n",
       "      <td>7.0</td>\n",
       "    </tr>\n",
       "    <tr>\n",
       "      <th>cash</th>\n",
       "      <td>NaN</td>\n",
       "      <td>8.0</td>\n",
       "    </tr>\n",
       "  </tbody>\n",
       "</table>\n",
       "</div>"
      ]
     },
     "execution_count": 6,
     "metadata": {},
     "output_type": "execute_result"
    }
   ],
   "execution_count": 6
  },
  {
   "metadata": {
    "ExecuteTime": {
     "end_time": "2025-03-19T15:25:11.403012Z",
     "start_time": "2025-03-19T15:25:11.401482Z"
    }
   },
   "cell_type": "code",
   "source": "result = {}",
   "id": "27768fa12ea12e5f",
   "outputs": [],
   "execution_count": 7
  },
  {
   "metadata": {
    "ExecuteTime": {
     "end_time": "2025-03-19T15:25:11.424184Z",
     "start_time": "2025-03-19T15:25:11.422185Z"
    }
   },
   "cell_type": "code",
   "source": [
    "# Create the top-level container\n",
    "result[\"Assumptions\"] = {}"
   ],
   "id": "c6bbb7ed830e2ddc",
   "outputs": [],
   "execution_count": 8
  },
  {
   "metadata": {
    "ExecuteTime": {
     "end_time": "2025-03-19T15:25:11.442796Z",
     "start_time": "2025-03-19T15:25:11.439805Z"
    }
   },
   "cell_type": "code",
   "source": [
    "# Create the top-level container\n",
    "# Get unique level1 values\n",
    "for level1_val in unstacked_df.index.get_level_values(0).unique():\n",
    "    # Create level1 entry\n",
    "    result[\"Assumptions\"][level1_val] = {}\n",
    "\n",
    "    # Get level2 values for this level1\n",
    "    df_level1 = unstacked_df.xs(level1_val, level=0)\n",
    "\n",
    "    for level2_val in df_level1.index.get_level_values(0).unique():\n",
    "        # Create level2 entry\n",
    "        result[\"Assumptions\"][level1_val][level2_val] = {}\n",
    "\n",
    "        # Get level3 values for this level2\n",
    "        df_level2 = df_level1.xs(level2_val, level=0)\n",
    "\n",
    "        # For each level3, add the level4 values\n",
    "        for level3_val, row in df_level2.iterrows():\n",
    "            result[\"Assumptions\"][level1_val][level2_val][level3_val] = row.dropna().to_dict()"
   ],
   "id": "1b0e25abe7fd9e39",
   "outputs": [],
   "execution_count": 9
  },
  {
   "metadata": {
    "ExecuteTime": {
     "end_time": "2025-03-19T15:25:11.457275Z",
     "start_time": "2025-03-19T15:25:11.455517Z"
    }
   },
   "cell_type": "code",
   "source": [
    "with open('Data/assumptions4.json', 'w') as f:\n",
    "    json.dump(result, f, indent=2)"
   ],
   "id": "2bd4d6fd2ae45fe",
   "outputs": [],
   "execution_count": 10
  },
  {
   "metadata": {
    "ExecuteTime": {
     "end_time": "2025-03-19T15:25:11.460172Z",
     "start_time": "2025-03-19T15:25:11.459071Z"
    }
   },
   "cell_type": "code",
   "source": "",
   "id": "ac8af560fbac7a1e",
   "outputs": [],
   "execution_count": null
  },
  {
   "metadata": {
    "ExecuteTime": {
     "end_time": "2025-03-19T15:43:42.227752Z",
     "start_time": "2025-03-19T15:43:42.222997Z"
    }
   },
   "cell_type": "code",
   "source": [
    "def df_to_nested_json(df, top_level_name, level_columns, value_column='value'):\n",
    "    \"\"\"\n",
    "    Convert a DataFrame to a nested JSON structure.\n",
    "\n",
    "    Parameters:\n",
    "    ----------\n",
    "    df : pandas.DataFrame\n",
    "        Input DataFrame with hierarchical data\n",
    "    top_level_name : str\n",
    "        Name for the top-level container in the JSON\n",
    "    level_columns : list\n",
    "        List of column names to use as hierarchical levels\n",
    "    value_column : str, default 'value'\n",
    "        Name of the column containing the values\n",
    "\n",
    "    Returns:\n",
    "    -------\n",
    "    dict\n",
    "        Nested dictionary structure ready for JSON conversion\n",
    "    \"\"\"\n",
    "    # Set up multi-index DataFrame\n",
    "    indexed_df = df.set_index(level_columns)\n",
    "    value_series = indexed_df[value_column]\n",
    "\n",
    "    # Unstack the deepest level to create columns\n",
    "    unstacked_df = value_series.unstack(level=len(level_columns)-1)\n",
    "\n",
    "    # Create the result dictionary\n",
    "    result = {top_level_name: {}}\n",
    "\n",
    "    # Helper function to recursively build the nested structure\n",
    "    def build_nested_dict(df, current_dict, levels_seen=0, max_levels=len(level_columns)-2):\n",
    "        if levels_seen == max_levels:\n",
    "            # At the deepest level, process rows\n",
    "            for idx, row in df.iterrows():\n",
    "                current_dict[idx] = row.dropna().to_dict()\n",
    "        else:\n",
    "            # At intermediate levels, create new dictionaries and recurse\n",
    "            for val in df.index.get_level_values(0).unique():\n",
    "                current_dict[val] = {}\n",
    "                next_df = df.xs(val, level=0)\n",
    "                build_nested_dict(next_df, current_dict[val], levels_seen+1, max_levels)\n",
    "\n",
    "    # Start building from the top level\n",
    "    build_nested_dict(unstacked_df, result[top_level_name])\n",
    "\n",
    "    return result"
   ],
   "id": "e92e88857bd477c5",
   "outputs": [],
   "execution_count": 11
  },
  {
   "metadata": {
    "ExecuteTime": {
     "end_time": "2025-03-19T15:46:12.150338Z",
     "start_time": "2025-03-19T15:46:12.143377Z"
    }
   },
   "cell_type": "code",
   "source": [
    "# Create the JSON structure\n",
    "result = df_to_nested_json(df, \"Assumptions\", [\"level1\", \"level2\", \"level3\", \"level4\"])\n",
    "\n",
    "# Write to JSON file\n",
    "with open('Data/assumptions5.json', 'w') as f:\n",
    "    json.dump(result, f, indent=2)"
   ],
   "id": "c9e0dd8d23f446a9",
   "outputs": [],
   "execution_count": 12
  },
  {
   "metadata": {},
   "cell_type": "code",
   "outputs": [],
   "execution_count": null,
   "source": "",
   "id": "de28f95c5d22330"
  }
 ],
 "metadata": {
  "kernelspec": {
   "display_name": "Python 3",
   "language": "python",
   "name": "python3"
  },
  "language_info": {
   "codemirror_mode": {
    "name": "ipython",
    "version": 2
   },
   "file_extension": ".py",
   "mimetype": "text/x-python",
   "name": "python",
   "nbconvert_exporter": "python",
   "pygments_lexer": "ipython2",
   "version": "2.7.6"
  }
 },
 "nbformat": 4,
 "nbformat_minor": 5
}
